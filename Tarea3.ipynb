{
  "nbformat": 4,
  "nbformat_minor": 0,
  "metadata": {
    "colab": {
      "name": "Tarea3.ipynb",
      "provenance": [],
      "authorship_tag": "ABX9TyNscyaQjGjFk7lcNoLQUSEJ",
      "include_colab_link": true
    },
    "kernelspec": {
      "display_name": "Python 3",
      "name": "python3"
    }
  },
  "cells": [
    {
      "cell_type": "markdown",
      "metadata": {
        "id": "view-in-github",
        "colab_type": "text"
      },
      "source": [
        "<a href=\"https://colab.research.google.com/github/Eder-david/Repositorio-de-Tareas/blob/main/Tarea3.ipynb\" target=\"_parent\"><img src=\"https://colab.research.google.com/assets/colab-badge.svg\" alt=\"Open In Colab\"/></a>"
      ]
    },
    {
      "cell_type": "code",
      "metadata": {
        "colab": {
          "base_uri": "https://localhost:8080/"
        },
        "id": "2ZuyQ4i-xyH5",
        "outputId": "9d5523a2-385f-4e0c-cb0f-22ed72e5274c"
      },
      "source": [
        "Carne = \"Doble triple\"\r\n",
        "Salsa = \"De Coral\"\r\n",
        "Decorado = \"De lujo\"\r\n",
        "Estilo = \"Animal\"\r\n",
        "Guijarros = \"Extra\"\r\n",
        "Vibración = \"Exprimida\"\r\n",
        "Eje = \"Con grasa ligera\"\r\n",
        "Hazlo = \"Llorar\"\r\n",
        "Quémalo = \"Sí\"\r\n",
        "Nadando = \"Sí\"\r\n",
        "Pepinillos = \"Sí\"\r\n",
        "\r\n",
        "\r\n",
        "if (Carne == \"Doble triple\" or\r\n",
        "Salsa == \"De Coral\" or\r\n",
        "Decorado == \"De lujo\" or\r\n",
        "Estilo == \"Animal\" or \r\n",
        "Guijarros == \"Extra\" or\r\n",
        "Vibración == \"Exprimida\" or\r\n",
        "Eje == \"Con grasa ligera\" or \r\n",
        "Hazlo == \"Llorar\" or\r\n",
        "Quémalo == \"Sí\" or\r\n",
        "Nadando == \"Sí\" or\r\n",
        "Pepinillos == \"No\"):\r\n",
        "  print(\"Quiere la kangreburguer\")\r\n",
        "else:\r\n",
        "  print(\"No quiere la kangrebuger\")"
      ],
      "execution_count": 20,
      "outputs": [
        {
          "output_type": "stream",
          "text": [
            "Quiere la kangreburguer\n"
          ],
          "name": "stdout"
        }
      ]
    }
  ]
}