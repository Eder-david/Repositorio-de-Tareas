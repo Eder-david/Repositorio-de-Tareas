{
  "nbformat": 4,
  "nbformat_minor": 0,
  "metadata": {
    "colab": {
      "name": "Untitled1.ipynb",
      "provenance": [],
      "collapsed_sections": [],
      "authorship_tag": "ABX9TyNYy7qGVW50FvPM9Qwhbll5",
      "include_colab_link": true
    },
    "kernelspec": {
      "name": "python3",
      "display_name": "Python 3"
    }
  },
  "cells": [
    {
      "cell_type": "markdown",
      "metadata": {
        "id": "view-in-github",
        "colab_type": "text"
      },
      "source": [
        "<a href=\"https://colab.research.google.com/github/Eder-david/Repositorio-de-Tareas/blob/main/Untitled1.ipynb\" target=\"_parent\"><img src=\"https://colab.research.google.com/assets/colab-badge.svg\" alt=\"Open In Colab\"/></a>"
      ]
    },
    {
      "cell_type": "code",
      "metadata": {
        "colab": {
          "base_uri": "https://localhost:8080/"
        },
        "id": "3g5vjBswOGeW",
        "outputId": "4bfd09ca-0e30-497a-f635-1eee6004ef7f"
      },
      "source": [
        "Primer_nomre= \"Eder \"\r\n",
        "Segundo_nombre= \"David \"\r\n",
        "Primer_apellido= \"Quispe \"\r\n",
        "Segundo_apellido= \"Condori \"\r\n",
        "Nombre_completo= \"Mi nombre completo es: \" + Primer_nombre + Segundo_nombre + Primer_apellido + Segundo_apellido\r\n",
        "print(Nombre_completo)\r\n",
        "Nombre_1= input(\"Introduzca su primer nombre: \")\r\n",
        "nombre_2= input(\"Introduzca su segundo nombre: \")\r\n",
        "Apellido_1= input(\"Introduzca su primer apellido: \")\r\n",
        "Apellido_2= input(\"Introduzca su segundo apellido: \")\r\n",
        "print(\"Mi nombre completo es: \",Nombre_1,nombre_2,Apellido_1,Apellido_2)"
      ],
      "execution_count": 12,
      "outputs": [
        {
          "output_type": "stream",
          "text": [
            "Mi nombre completo es: Eder David Quispe Condori \n",
            "Introduzca su primer nombre: Eder\n",
            "Introduzca su segundo nombre: David\n",
            "Introduzca su primer apellido: Quispe\n",
            "Introduzca su segundo apellido: Condori\n",
            "Mi nombre completo es:  Eder David Quispe Condori\n"
          ],
          "name": "stdout"
        }
      ]
    }
  ]
}