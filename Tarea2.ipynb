{
  "nbformat": 4,
  "nbformat_minor": 0,
  "metadata": {
    "colab": {
      "name": "Tarea2.ipynb",
      "provenance": [],
      "authorship_tag": "ABX9TyOkE3+WSAqwl2sUxIQv4F3C",
      "include_colab_link": true
    },
    "kernelspec": {
      "name": "python3",
      "display_name": "Python 3"
    }
  },
  "cells": [
    {
      "cell_type": "markdown",
      "metadata": {
        "id": "view-in-github",
        "colab_type": "text"
      },
      "source": [
        "<a href=\"https://colab.research.google.com/github/Eder-david/Repositorio-de-Tareas/blob/main/Tarea2.ipynb\" target=\"_parent\"><img src=\"https://colab.research.google.com/assets/colab-badge.svg\" alt=\"Open In Colab\"/></a>"
      ]
    },
    {
      "cell_type": "code",
      "metadata": {
        "colab": {
          "base_uri": "https://localhost:8080/"
        },
        "id": "O0sN7ufla__a",
        "outputId": "2cb9f735-df17-4b3c-f14f-0ed29fdfef7d"
      },
      "source": [
        "print(\"\\t \\t \\t \\t \\t \\t \\t   Automoviles\")\r\n",
        "Automoviles=[]\r\n",
        "Placa1=input(\"Mencione la placa del 1er carro: \")\r\n",
        "Modelo1= input(\"Mencione el 1er modelo deseado: \")\r\n",
        "Año1= int(input(\"Mencione el año: \"))\r\n",
        "print(\"Ingrese los datos del segundo carro a adquirir: \")\r\n",
        "Placa2= input(\"Mencione la placa del 2do carro: \")\r\n",
        "Modelo2= input(\"Mencione el 2do modelo deseado: \")\r\n",
        "Año2= input(\"Mencione el año: \")\r\n",
        "Automovil_1={ 'Placa_1': Placa1, 'Modelo_1':Modelo1}\r\n",
        "Automovil_2={ 'Placa_2': Placa2, 'Modelo_2':Modelo2}\r\n",
        "Automovil_1.update({'Año_1':Año1})\r\n",
        "Automovil_2.update({'Año_2':Año2})\r\n",
        "Automoviles.append(Automovil_1)\r\n",
        "Automoviles.append(Automovil_2)\r\n",
        "print(\"Sus Automoviles solicitados son: \", Automoviles)\r\n",
        "\r\n",
        "\r\n",
        "\r\n"
      ],
      "execution_count": 7,
      "outputs": [
        {
          "output_type": "stream",
          "text": [
            "\t \t \t \t \t \t \t   Automoviles\n",
            "Mencione la placa del 1er carro: ADFF78\n",
            "Mencione el 1er modelo deseado: NISSAN\n",
            "Mencione el año: 1978\n",
            "Ingrese los datos del segundo carro a adquirir: \n",
            "Mencione la placa del 2do carro: SAD78\n",
            "Mencione el 2do modelo deseado: VOLKSWAGEN\n",
            "Mencione el año: 1789\n",
            "Sus Automoviles solicitados son:  [{'Placa_1': 'ADFF78', 'Modelo_1': 'NISSAN', 'Año_1': 1978}, {'Placa_2': 'SAD78', 'Modelo_2': 'VOLKSWAGEN', 'Año_2': '1789'}]\n"
          ],
          "name": "stdout"
        }
      ]
    },
    {
      "cell_type": "code",
      "metadata": {
        "colab": {
          "base_uri": "https://localhost:8080/"
        },
        "id": "epL2CmaEjrgY",
        "outputId": "bbd77dbc-40de-42d1-ebd9-9ba167a973ce"
      },
      "source": [
        "print(Automoviles[0]['Placa_1'])\r\n",
        "print(Automoviles[0]['Modelo_1'])\r\n",
        "print(Automoviles[0]['Año_1'])"
      ],
      "execution_count": 9,
      "outputs": [
        {
          "output_type": "stream",
          "text": [
            "ADFF78\n",
            "NISSAN\n",
            "1978\n"
          ],
          "name": "stdout"
        }
      ]
    },
    {
      "cell_type": "code",
      "metadata": {
        "colab": {
          "base_uri": "https://localhost:8080/"
        },
        "id": "Us8zUKjTklHl",
        "outputId": "32fc819a-79ad-40b0-8c8a-52a5364e1634"
      },
      "source": [
        "print(Automoviles[1]['Placa_2'])\r\n",
        "print(Automoviles[1]['Modelo_2'])\r\n",
        "print(Automoviles[1]['Año_2'])"
      ],
      "execution_count": 10,
      "outputs": [
        {
          "output_type": "stream",
          "text": [
            "SAD78\n",
            "VOLKSWAGEN\n",
            "1789\n"
          ],
          "name": "stdout"
        }
      ]
    }
  ]
}