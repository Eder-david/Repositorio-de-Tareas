{
  "nbformat": 4,
  "nbformat_minor": 0,
  "metadata": {
    "colab": {
      "name": "Tarea_del_Tema8.ipynb",
      "provenance": [],
      "authorship_tag": "ABX9TyNxwDSfy3OZPlq67eSD1ILl",
      "include_colab_link": true
    },
    "kernelspec": {
      "name": "python3",
      "display_name": "Python 3"
    }
  },
  "cells": [
    {
      "cell_type": "markdown",
      "metadata": {
        "id": "view-in-github",
        "colab_type": "text"
      },
      "source": [
        "<a href=\"https://colab.research.google.com/github/Eder-david/Repositorio-de-Tareas/blob/main/Tarea_del_Tema8.ipynb\" target=\"_parent\"><img src=\"https://colab.research.google.com/assets/colab-badge.svg\" alt=\"Open In Colab\"/></a>"
      ]
    },
    {
      "cell_type": "code",
      "metadata": {
        "colab": {
          "base_uri": "https://localhost:8080/"
        },
        "id": "2z0VBgMu41IT",
        "outputId": "17318acd-7eab-428a-f8d8-9e2ebdd52312"
      },
      "source": [
        "a=[[3,2,4],[1,2,3],[2,4,5]]\r\n",
        "print(\"La matriz 'a' es: \", a)\r\n",
        "n=int(input(\"El número entero por el que será multiplicado la matriz es: \"))\r\n",
        "\r\n",
        "for i in range(len(a)):\r\n",
        "  for s in range(len(a)):\r\n",
        "    a[i][s]=n*a[i][s]\r\n",
        "print(\"La matriz resultante será\", a)"
      ],
      "execution_count": 3,
      "outputs": [
        {
          "output_type": "stream",
          "text": [
            "La matriz 'a' es:  [[3, 2, 4], [1, 2, 3], [2, 4, 5]]\n",
            "El número entero por el que será multiplicado la matriz es: 3\n",
            "La matriz resultante será [[9, 6, 12], [3, 6, 9], [6, 12, 15]]\n"
          ],
          "name": "stdout"
        }
      ]
    }
  ]
}